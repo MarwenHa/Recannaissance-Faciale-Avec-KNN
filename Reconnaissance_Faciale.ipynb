{
 "cells": [
  {
   "cell_type": "code",
   "execution_count": 1,
   "metadata": {},
   "outputs": [],
   "source": [
    "import os\n",
    "from sklearn.model_selection import train_test_split\n",
    "import skimage\n",
    "from skimage import io, color\n",
    "import numpy as np\n",
    "from sklearn.neighbors  import KNeighborsClassifier\n",
    "import pandas as pd\n",
    "import matplotlib.pyplot as plt\n",
    "from skimage.transform import rescale, resize, downscale_local_mean\n",
    "from sklearn.metrics import accuracy_score, confusion_matrix\n",
    "import cv2"
   ]
  },
  {
   "cell_type": "code",
   "execution_count": 2,
   "metadata": {},
   "outputs": [],
   "source": [
    "Data_path_test = '..\\Reconnaissance-Faciale-Avec-KNN\\datasets'\n",
    "Im_test_path = ['..\\Reconnaissance-Faciale-Avec-KNN\\Images_Test\\Test_face19.jpg']"
   ]
  },
  {
   "cell_type": "code",
   "execution_count": 3,
   "metadata": {},
   "outputs": [],
   "source": [
    "# Fonction pour lire les images de la base\n",
    "# images = vecteurs contenant les paths desimages \n",
    "# labels = vecteur contenant les éthiquettes \n",
    "def Lire_data(data_path):\n",
    "    images=[]\n",
    "    labels=[]\n",
    "    for classe_name in os.listdir(data_path):\n",
    "        classe_path = os.path.join(data_path, classe_name)\n",
    "        for file in os.listdir(classe_path):\n",
    "            image_path = os.path.join(classe_path, file)\n",
    "            images.append(image_path)\n",
    "            labels.append(classe_name)\n",
    "    return images, labels"
   ]
  },
  {
   "cell_type": "code",
   "execution_count": 4,
   "metadata": {},
   "outputs": [],
   "source": [
    "# Transformation numérique des données\n",
    "def Traitement_Images(Images_Path): \n",
    "    X_=[]\n",
    "    for image_path in Images_Path:\n",
    "        I=io.imread(image_path)\n",
    "        I=color.rgb2gray(I)\n",
    "        I=resize(I,(100, 100))\n",
    "        x=I.flatten()\n",
    "        X_.append(x)\n",
    "    X_=np.array(X_)\n",
    "    return X_"
   ]
  },
  {
   "cell_type": "code",
   "execution_count": 5,
   "metadata": {},
   "outputs": [],
   "source": [
    "X,Y = Lire_data(Data_path_test)"
   ]
  },
  {
   "cell_type": "code",
   "execution_count": 6,
   "metadata": {},
   "outputs": [],
   "source": [
    "X_train, X_test, y_train, y_test=train_test_split(X,Y, train_size=0.68, stratify=Y)"
   ]
  },
  {
   "cell_type": "code",
   "execution_count": 7,
   "metadata": {},
   "outputs": [],
   "source": [
    "X_train_=Traitement_Images(X_train)"
   ]
  },
  {
   "cell_type": "code",
   "execution_count": 8,
   "metadata": {},
   "outputs": [
    {
     "data": {
      "text/html": [
       "<style>#sk-container-id-1 {color: black;background-color: white;}#sk-container-id-1 pre{padding: 0;}#sk-container-id-1 div.sk-toggleable {background-color: white;}#sk-container-id-1 label.sk-toggleable__label {cursor: pointer;display: block;width: 100%;margin-bottom: 0;padding: 0.3em;box-sizing: border-box;text-align: center;}#sk-container-id-1 label.sk-toggleable__label-arrow:before {content: \"▸\";float: left;margin-right: 0.25em;color: #696969;}#sk-container-id-1 label.sk-toggleable__label-arrow:hover:before {color: black;}#sk-container-id-1 div.sk-estimator:hover label.sk-toggleable__label-arrow:before {color: black;}#sk-container-id-1 div.sk-toggleable__content {max-height: 0;max-width: 0;overflow: hidden;text-align: left;background-color: #f0f8ff;}#sk-container-id-1 div.sk-toggleable__content pre {margin: 0.2em;color: black;border-radius: 0.25em;background-color: #f0f8ff;}#sk-container-id-1 input.sk-toggleable__control:checked~div.sk-toggleable__content {max-height: 200px;max-width: 100%;overflow: auto;}#sk-container-id-1 input.sk-toggleable__control:checked~label.sk-toggleable__label-arrow:before {content: \"▾\";}#sk-container-id-1 div.sk-estimator input.sk-toggleable__control:checked~label.sk-toggleable__label {background-color: #d4ebff;}#sk-container-id-1 div.sk-label input.sk-toggleable__control:checked~label.sk-toggleable__label {background-color: #d4ebff;}#sk-container-id-1 input.sk-hidden--visually {border: 0;clip: rect(1px 1px 1px 1px);clip: rect(1px, 1px, 1px, 1px);height: 1px;margin: -1px;overflow: hidden;padding: 0;position: absolute;width: 1px;}#sk-container-id-1 div.sk-estimator {font-family: monospace;background-color: #f0f8ff;border: 1px dotted black;border-radius: 0.25em;box-sizing: border-box;margin-bottom: 0.5em;}#sk-container-id-1 div.sk-estimator:hover {background-color: #d4ebff;}#sk-container-id-1 div.sk-parallel-item::after {content: \"\";width: 100%;border-bottom: 1px solid gray;flex-grow: 1;}#sk-container-id-1 div.sk-label:hover label.sk-toggleable__label {background-color: #d4ebff;}#sk-container-id-1 div.sk-serial::before {content: \"\";position: absolute;border-left: 1px solid gray;box-sizing: border-box;top: 0;bottom: 0;left: 50%;z-index: 0;}#sk-container-id-1 div.sk-serial {display: flex;flex-direction: column;align-items: center;background-color: white;padding-right: 0.2em;padding-left: 0.2em;position: relative;}#sk-container-id-1 div.sk-item {position: relative;z-index: 1;}#sk-container-id-1 div.sk-parallel {display: flex;align-items: stretch;justify-content: center;background-color: white;position: relative;}#sk-container-id-1 div.sk-item::before, #sk-container-id-1 div.sk-parallel-item::before {content: \"\";position: absolute;border-left: 1px solid gray;box-sizing: border-box;top: 0;bottom: 0;left: 50%;z-index: -1;}#sk-container-id-1 div.sk-parallel-item {display: flex;flex-direction: column;z-index: 1;position: relative;background-color: white;}#sk-container-id-1 div.sk-parallel-item:first-child::after {align-self: flex-end;width: 50%;}#sk-container-id-1 div.sk-parallel-item:last-child::after {align-self: flex-start;width: 50%;}#sk-container-id-1 div.sk-parallel-item:only-child::after {width: 0;}#sk-container-id-1 div.sk-dashed-wrapped {border: 1px dashed gray;margin: 0 0.4em 0.5em 0.4em;box-sizing: border-box;padding-bottom: 0.4em;background-color: white;}#sk-container-id-1 div.sk-label label {font-family: monospace;font-weight: bold;display: inline-block;line-height: 1.2em;}#sk-container-id-1 div.sk-label-container {text-align: center;}#sk-container-id-1 div.sk-container {/* jupyter's `normalize.less` sets `[hidden] { display: none; }` but bootstrap.min.css set `[hidden] { display: none !important; }` so we also need the `!important` here to be able to override the default hidden behavior on the sphinx rendered scikit-learn.org. See: https://github.com/scikit-learn/scikit-learn/issues/21755 */display: inline-block !important;position: relative;}#sk-container-id-1 div.sk-text-repr-fallback {display: none;}</style><div id=\"sk-container-id-1\" class=\"sk-top-container\"><div class=\"sk-text-repr-fallback\"><pre>KNeighborsClassifier()</pre><b>In a Jupyter environment, please rerun this cell to show the HTML representation or trust the notebook. <br />On GitHub, the HTML representation is unable to render, please try loading this page with nbviewer.org.</b></div><div class=\"sk-container\" hidden><div class=\"sk-item\"><div class=\"sk-estimator sk-toggleable\"><input class=\"sk-toggleable__control sk-hidden--visually\" id=\"sk-estimator-id-1\" type=\"checkbox\" checked><label for=\"sk-estimator-id-1\" class=\"sk-toggleable__label sk-toggleable__label-arrow\">KNeighborsClassifier</label><div class=\"sk-toggleable__content\"><pre>KNeighborsClassifier()</pre></div></div></div></div></div>"
      ],
      "text/plain": [
       "KNeighborsClassifier()"
      ]
     },
     "execution_count": 8,
     "metadata": {},
     "output_type": "execute_result"
    }
   ],
   "source": [
    "knn = KNeighborsClassifier(n_neighbors=5)\n",
    "knn.fit(X_train_,y_train)"
   ]
  },
  {
   "cell_type": "code",
   "execution_count": 9,
   "metadata": {},
   "outputs": [],
   "source": [
    "X_test_ = Traitement_Images(X_test)\n",
    "\n",
    "y_test_predicted=knn.predict(X_test_)"
   ]
  },
  {
   "cell_type": "code",
   "execution_count": 10,
   "metadata": {},
   "outputs": [
    {
     "name": "stdout",
     "output_type": "stream",
     "text": [
      "accuracy =  76.04 \n",
      "matrice de confusion = \n",
      "           Hechmi  Inconnue  Marwen\n",
      "Hechmi        30         0       2\n",
      "Inconnue      17        13       2\n",
      "Marwen         2         0      30\n"
     ]
    }
   ],
   "source": [
    "print(\"accuracy =  %.2f \" % (accuracy_score(y_test, y_test_predicted)*100))\n",
    "M=confusion_matrix(y_test, y_test_predicted)\n",
    "print('matrice de confusion = \\n',pd.DataFrame(M,columns=knn.classes_,index=knn.classes_))"
   ]
  },
  {
   "cell_type": "code",
   "execution_count": 11,
   "metadata": {},
   "outputs": [],
   "source": [
    "Im_test_ = Traitement_Images(Im_test_path)"
   ]
  },
  {
   "cell_type": "code",
   "execution_count": 12,
   "metadata": {},
   "outputs": [
    {
     "name": "stdout",
     "output_type": "stream",
     "text": [
      "Prédiction N_Image = \n",
      " ['Hechmi']\n"
     ]
    }
   ],
   "source": [
    "Im_test_predicted=knn.predict(Im_test_.reshape(1,-1))\n",
    "print('Prédiction N_Image = \\n',Im_test_predicted)"
   ]
  },
  {
   "cell_type": "code",
   "execution_count": 13,
   "metadata": {},
   "outputs": [],
   "source": [
    "cap = cv2.VideoCapture(0)\n",
    "\n",
    "classifier = cv2.CascadeClassifier(\"..\\Reconnaissance-Faciale-Avec-KNN\\haarcascade_frontalface_default.xml\")\n",
    "f_list = []\n",
    "\n",
    "while True:\n",
    "\n",
    "\tret, frame = cap.read()\n",
    "\n",
    "\tgray = cv2.cvtColor(frame, cv2.COLOR_BGR2GRAY)\n",
    "\n",
    "\t# Capture des visage avec webcam\n",
    "\tfaces = classifier.detectMultiScale(gray, 1.5, 5)\n",
    "\n",
    "\tX_test = []\n",
    "\n",
    "\t\n",
    "\t# traitement numérique des visages capturés\n",
    "\tfor face in faces:\n",
    "\t\tx, y, w, h = face\n",
    "\t\tim_face = gray[y:y + h, x:x + w]\n",
    "\t\tim_face = resize(im_face, (100, 100))\n",
    "\t\tX_test.append(im_face.flatten())\n",
    "\n",
    "\n",
    "\tif len(faces)>0:\n",
    "\t\tresponse = knn.predict(np.array(X_test))\n",
    "\t\t# prediction du résultat avec KNN\n",
    "\n",
    "\t\tfor i, face in enumerate(faces):\n",
    "\t\t\tx, y, w, h = face\n",
    "\n",
    "\t\t\t# dessiner un rectangle sur le visage détecté\n",
    "\t\t\tcv2.rectangle(frame, (x, y), (x + w, y + h),\n",
    "\t\t\t\t\t\t\t\t\t\t(255, 0, 0), 3)\n",
    "\n",
    "\t\t\t# ajouter un nom prédit pour le visage\n",
    "\t\t\tcv2.putText(frame, response[i], (x-50, y-50),\n",
    "\t\t\t\t\t\t\tcv2.FONT_HERSHEY_DUPLEX, 2,\n",
    "\t\t\t\t\t\t\t\t\t\t(0, 255, 0), 3)\n",
    "\t\n",
    "\tcv2.imshow(\"full\", frame)\n",
    "\n",
    "\tkey = cv2.waitKey(1)\n",
    "\n",
    "\tif key & 0xFF == ord(\"q\") :\n",
    "\t\tbreak\n",
    "\n",
    "cap.release()\n",
    "cv2.destroyAllWindows()\n"
   ]
  },
  {
   "cell_type": "code",
   "execution_count": null,
   "metadata": {},
   "outputs": [],
   "source": []
  }
 ],
 "metadata": {
  "kernelspec": {
   "display_name": "Python 3.10.4 64-bit",
   "language": "python",
   "name": "python3"
  },
  "language_info": {
   "codemirror_mode": {
    "name": "ipython",
    "version": 3
   },
   "file_extension": ".py",
   "mimetype": "text/x-python",
   "name": "python",
   "nbconvert_exporter": "python",
   "pygments_lexer": "ipython3",
   "version": "3.10.4"
  },
  "orig_nbformat": 4,
  "vscode": {
   "interpreter": {
    "hash": "26de051ba29f2982a8de78e945f0abaf191376122a1563185a90213a26c5da77"
   }
  }
 },
 "nbformat": 4,
 "nbformat_minor": 2
}
